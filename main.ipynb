{
 "cells": [
  {
   "cell_type": "markdown",
   "metadata": {},
   "source": [
    "### Import libraries"
   ]
  },
  {
   "cell_type": "code",
   "execution_count": 46,
   "metadata": {},
   "outputs": [
    {
     "name": "stdout",
     "output_type": "stream",
     "text": [
      "2.0.1+cpu\n"
     ]
    }
   ],
   "source": [
    "import pandas as pd\n",
    "from sklearn import preprocessing\n",
    "import torch\n",
    "from torch.utils.data import Dataset\n",
    "from torch.utils.data import DataLoader\n",
    "from torch.utils.data import random_split\n",
    "from torch import tensor\n",
    "from torch import Generator\n",
    "from transformers import RobertaTokenizer\n",
    "import torch.nn.functional as F\n",
    "\n",
    "print(torch. __version__)"
   ]
  },
  {
   "cell_type": "markdown",
   "metadata": {},
   "source": [
    "### Set important variables"
   ]
  },
  {
   "cell_type": "code",
   "execution_count": 47,
   "metadata": {},
   "outputs": [],
   "source": [
    "SEED = 420\n",
    "LEARNING_RATE = 1e-6 # same as RoBERTa\n",
    "MODEL_NAME = 'roberta-base'"
   ]
  },
  {
   "cell_type": "markdown",
   "metadata": {},
   "source": [
    "### Import data"
   ]
  },
  {
   "cell_type": "code",
   "execution_count": 48,
   "metadata": {},
   "outputs": [
    {
     "data": {
      "text/html": [
       "<div>\n",
       "<style scoped>\n",
       "    .dataframe tbody tr th:only-of-type {\n",
       "        vertical-align: middle;\n",
       "    }\n",
       "\n",
       "    .dataframe tbody tr th {\n",
       "        vertical-align: top;\n",
       "    }\n",
       "\n",
       "    .dataframe thead th {\n",
       "        text-align: right;\n",
       "    }\n",
       "</style>\n",
       "<table border=\"1\" class=\"dataframe\">\n",
       "  <thead>\n",
       "    <tr style=\"text-align: right;\">\n",
       "      <th></th>\n",
       "      <th>Classification</th>\n",
       "      <th>Description</th>\n",
       "    </tr>\n",
       "  </thead>\n",
       "  <tbody>\n",
       "    <tr>\n",
       "      <th>0</th>\n",
       "      <td>Household</td>\n",
       "      <td>Paper Plane Design Framed Wall Hanging Motivat...</td>\n",
       "    </tr>\n",
       "    <tr>\n",
       "      <th>1</th>\n",
       "      <td>Household</td>\n",
       "      <td>SAF 'Floral' Framed Painting (Wood, 30 inch x ...</td>\n",
       "    </tr>\n",
       "    <tr>\n",
       "      <th>2</th>\n",
       "      <td>Household</td>\n",
       "      <td>SAF 'UV Textured Modern Art Print Framed' Pain...</td>\n",
       "    </tr>\n",
       "    <tr>\n",
       "      <th>3</th>\n",
       "      <td>Household</td>\n",
       "      <td>SAF Flower Print Framed Painting (Synthetic, 1...</td>\n",
       "    </tr>\n",
       "    <tr>\n",
       "      <th>4</th>\n",
       "      <td>Household</td>\n",
       "      <td>Incredible Gifts India Wooden Happy Birthday U...</td>\n",
       "    </tr>\n",
       "  </tbody>\n",
       "</table>\n",
       "</div>"
      ],
      "text/plain": [
       "  Classification                                        Description\n",
       "0      Household  Paper Plane Design Framed Wall Hanging Motivat...\n",
       "1      Household  SAF 'Floral' Framed Painting (Wood, 30 inch x ...\n",
       "2      Household  SAF 'UV Textured Modern Art Print Framed' Pain...\n",
       "3      Household  SAF Flower Print Framed Painting (Synthetic, 1...\n",
       "4      Household  Incredible Gifts India Wooden Happy Birthday U..."
      ]
     },
     "execution_count": 48,
     "metadata": {},
     "output_type": "execute_result"
    }
   ],
   "source": [
    "df = pd.read_csv('ecommerceDataset.csv', header=None, names=['Classification', 'Description'])\n",
    "df.head()"
   ]
  },
  {
   "cell_type": "markdown",
   "metadata": {},
   "source": [
    "### Create the dataset class"
   ]
  },
  {
   "cell_type": "code",
   "execution_count": 51,
   "metadata": {},
   "outputs": [],
   "source": [
    "class ECommerceDataset(Dataset):\n",
    "    def __init__(self, dataframe):\n",
    "        self.descriptions = df['Description']\n",
    "        self.classifications = df['Classification']\n",
    "        self.tokenizer = RobertaTokenizer.from_pretrained(MODEL_NAME)\n",
    "    \n",
    "    def __len__(self):\n",
    "        return len(self.descriptions)\n",
    "    \n",
    "    def __getitem__(self, idx):\n",
    "        inp = self.descriptions.iloc[idx]\n",
    "        output = self.tokenizer.__call__(text = inp, truncation = True, return_attention_mask = True, return_token_type_ids = True) #truncates to model default, in this case 512 tokens\n",
    "        input_ids = output['input_ids']\n",
    "        attention_mask = output['attention_mask']\n",
    "        token_type_ids = output['token_type_ids']\n",
    "\n",
    "        return {'input_ids' : input_ids, 'attention_mask' : attention_mask, 'token_type_ids' : token_type_ids , 'class' : self.classifications.iloc[idx]}"
   ]
  },
  {
   "cell_type": "markdown",
   "metadata": {},
   "source": [
    "### Create training, validation, and testing datasets"
   ]
  },
  {
   "cell_type": "code",
   "execution_count": 58,
   "metadata": {},
   "outputs": [
    {
     "name": "stdout",
     "output_type": "stream",
     "text": [
      "Old labels: [3 0 1 2]\n",
      "New labels: [3 0 1 2]\n",
      "Keys: ['input_ids', 'attention_mask', 'token_type_ids', 'class']\n"
     ]
    }
   ],
   "source": [
    "print(f\"Old labels: {df['Classification'].unique()}\")\n",
    "df['Classification'] = preprocessing.LabelEncoder().fit_transform(df['Classification'])\n",
    "print(f\"New labels: {df['Classification'].unique()}\")\n",
    "complete_dataset = ECommerceDataset(df)\n",
    "generator = Generator().manual_seed(SEED)\n",
    "\n",
    "train_dataset, validation_dataset, test_dataset = random_split(complete_dataset, [0.66, 0.17, 0.17], generator=generator)\n",
    "\n",
    "print(f\"Keys: {list(complete_dataset.__getitem__(0).keys())}\")"
   ]
  },
  {
   "cell_type": "markdown",
   "metadata": {},
   "source": [
    "### Create model class"
   ]
  },
  {
   "cell_type": "code",
   "execution_count": 1,
   "metadata": {},
   "outputs": [
    {
     "ename": "NameError",
     "evalue": "name 'torch' is not defined",
     "output_type": "error",
     "traceback": [
      "\u001b[1;31m---------------------------------------------------------------------------\u001b[0m",
      "\u001b[1;31mNameError\u001b[0m                                 Traceback (most recent call last)",
      "\u001b[1;32mc:\\Users\\mercu\\OneDrive\\Desktop\\College\\ml\\text classifier\\textClassifier\\main.ipynb Cell 12\u001b[0m in \u001b[0;36m<cell line: 1>\u001b[1;34m()\u001b[0m\n\u001b[1;32m----> <a href='vscode-notebook-cell:/c%3A/Users/mercu/OneDrive/Desktop/College/ml/text%20classifier/textClassifier/main.ipynb#X14sZmlsZQ%3D%3D?line=0'>1</a>\u001b[0m \u001b[39mclass\u001b[39;00m \u001b[39mClassificationModel\u001b[39;00m(torch\u001b[39m.\u001b[39mnn\u001b[39m.\u001b[39mModule):\n\u001b[0;32m      <a href='vscode-notebook-cell:/c%3A/Users/mercu/OneDrive/Desktop/College/ml/text%20classifier/textClassifier/main.ipynb#X14sZmlsZQ%3D%3D?line=1'>2</a>\u001b[0m     \u001b[39mdef\u001b[39;00m \u001b[39m__init__\u001b[39m(\u001b[39mself\u001b[39m):\n\u001b[0;32m      <a href='vscode-notebook-cell:/c%3A/Users/mercu/OneDrive/Desktop/College/ml/text%20classifier/textClassifier/main.ipynb#X14sZmlsZQ%3D%3D?line=2'>3</a>\u001b[0m         \u001b[39msuper\u001b[39m(ClassificationModel, \u001b[39mself\u001b[39m)\u001b[39m.\u001b[39m\u001b[39m__init__\u001b[39m()\n",
      "\u001b[1;31mNameError\u001b[0m: name 'torch' is not defined"
     ]
    }
   ],
   "source": [
    "class ClassificationModel(torch.nn.Module):\n",
    "    def __init__(self):\n",
    "        super(ClassificationModel, self).__init__()\n",
    "\n",
    "        self.roberta = RobertaModel.from_pretrained(MODEL_NAME)\n",
    "        self.l1 = torch.nn.LazyLinear(512)\n",
    "        self.l2 = torch.nn.LazyLinear(256)\n",
    "        self.l3 = torch.nn.LazyLinear(4)\n",
    "        self.dropout = torch.nn.Dropout(0.25)\n",
    "    \n",
    "    def forward(self, input_ids, attention_mask, token_type_ids):\n",
    "        roberta_output = self.roberta(input_ids = input_ids, attention_mask = attention_mask, token_type_ids = token_type_ids) #essentially calling the .forward() func\n",
    "        last_hidden_output = roberta_output[0] \n",
    "        #.forward() returns transformers.modeling_outputs.BaseModelOutputWithPoolingAndCrossAttentions [https://huggingface.co/docs/transformers/main/en/main_classes/output#transformers.modeling_outputs.BaseModelOutputWithPoolingAndCrossAttentions]\n",
    "        #BaseModelOutputWithPoolingAndCrossAttentions returns a tuple with last_hidden_state, i.e. the hidden state of the last layer of the model as its first index\n",
    "        x = F.relu(self.l1(last_hidden_output))\n",
    "        x = self.dropout(x)\n",
    "        x = F.relu(self.l2(x))\n",
    "        x = self.dropout(x)\n",
    "        x = self.l3(x)\n",
    "\n",
    "        return x #nn.Linear applies the softmax function automatically"
   ]
  },
  {
   "cell_type": "code",
   "execution_count": null,
   "metadata": {},
   "outputs": [],
   "source": []
  }
 ],
 "metadata": {
  "kernelspec": {
   "display_name": "Python 3",
   "language": "python",
   "name": "python3"
  },
  "language_info": {
   "codemirror_mode": {
    "name": "ipython",
    "version": 3
   },
   "file_extension": ".py",
   "mimetype": "text/x-python",
   "name": "python",
   "nbconvert_exporter": "python",
   "pygments_lexer": "ipython3",
   "version": "3.10.1"
  },
  "orig_nbformat": 4
 },
 "nbformat": 4,
 "nbformat_minor": 2
}
